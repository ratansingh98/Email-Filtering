{
 "cells": [
  {
   "cell_type": "code",
   "execution_count": 1,
   "metadata": {},
   "outputs": [],
   "source": [
    "import pandas as pd\n",
    "import numpy as np\n",
    "import sklearn\n",
    "import csv\n",
    "import re\n",
    "from textblob import TextBlob\n",
    "from nltk.corpus import stopwords\n",
    "from nltk.stem import PorterStemmer\n",
    "import numpy"
   ]
  },
  {
   "cell_type": "code",
   "execution_count": 2,
   "metadata": {},
   "outputs": [
    {
     "name": "stdout",
     "output_type": "stream",
     "text": [
      "['limited', 'time', 'only', 'urgent', 'hurry', 'going', 'now', 'rush', 'last', 'chance', 'deadline', 'final', 'close', 'out', 'going', 'bussiness', 'day', 'never', 'again', 'clerence', \"don't\", 'deley', 'not', 'miss', 'expires', 'compelling', 'critical', 'crucial', 'demanding', 'essential', 'immediate', 'imperative', 'important', 'indispensable', 'necessary', 'persuasive', 'pressing', 'serious', 'vital', 'weighty', 'burning', 'called-for', 'capital', 'chief', 'clamant', 'clamorous', 'crying', 'demanded', 'driving', 'exigent', 'foremost', 'heavy', 'hurry-up', 'impelling', 'importunate', 'insistent', 'instant', 'leading', 'death', 'momentous', 'paramount', 'primary', 'principal', 'required', 'salient', 'top-priority', 'touch', 'touchy', 'quick', 'fast', 'wanted', 'ASAP', 'soon', 'possible']\n"
     ]
    },
    {
     "name": "stderr",
     "output_type": "stream",
     "text": [
      "/home/ratan/anaconda3/lib/python3.6/site-packages/ipykernel_launcher.py:3: ParserWarning: Falling back to the 'python' engine because the 'c' engine does not support regex separators (separators > 1 char and different from '\\s+' are interpreted as regex); you can avoid this warning by specifying engine='python'.\n",
      "  This is separate from the ipykernel package so we can avoid doing imports until\n"
     ]
    }
   ],
   "source": [
    "STOP = set(stopwords.words('english'))\n",
    "words = pd.read_csv('./Data/U_Keyword_Dataset.txt', sep='/n', quoting=csv.QUOTE_NONE,\n",
    "                    names=[\"Urgency_Keywords\"])  # csv comma seperated value\n",
    "words = words['Urgency_Keywords'].values  # to numpy\n",
    "words = words.tolist()  # to list\n",
    "print(words)"
   ]
  },
  {
   "cell_type": "code",
   "execution_count": 3,
   "metadata": {},
   "outputs": [
    {
     "name": "stdout",
     "output_type": "stream",
     "text": [
      "['it', 'urgent', 'work', 'pleas', 'repli', 'quick']\n"
     ]
    }
   ],
   "source": [
    "ps =PorterStemmer()\n",
    "SplitIntoWords = lambda message: TextBlob(message.lower()).words\n",
    "WordsIntoBaseForm = lambda message: [ps.stem(word) for word in SplitIntoWords(message)]\n",
    "\n",
    "\n",
    "sub_str = \"Its urgently work please reply quick\"\n",
    "sub_str= WordsIntoBaseForm(sub_str)\n",
    "print(sub_str)"
   ]
  },
  {
   "cell_type": "code",
   "execution_count": 4,
   "metadata": {},
   "outputs": [
    {
     "name": "stdout",
     "output_type": "stream",
     "text": [
      "2\n"
     ]
    }
   ],
   "source": [
    "count = 0\n",
    "for sub_sub_str in sub_str:\n",
    "    if sub_sub_str in words:\n",
    "        count +=1\n",
    "print(count)"
   ]
  },
  {
   "cell_type": "markdown",
   "metadata": {},
   "source": [
    "## Create Filtered data"
   ]
  },
  {
   "cell_type": "code",
   "execution_count": 5,
   "metadata": {},
   "outputs": [],
   "source": [
    "# Original data link\n",
    "\n",
    "#https://www.kaggle.com/wcukierski/enron-email-dataset/downloads/emails.csv/2"
   ]
  },
  {
   "cell_type": "code",
   "execution_count": 6,
   "metadata": {
    "scrolled": true
   },
   "outputs": [],
   "source": [
    "chunk = pd.read_csv(\"Data/emails.csv\", chunksize=2000)\n",
    "data = next(chunk)"
   ]
  },
  {
   "cell_type": "code",
   "execution_count": 7,
   "metadata": {},
   "outputs": [
    {
     "name": "stdout",
     "output_type": "stream",
     "text": [
      "<class 'pandas.core.frame.DataFrame'>\n",
      "RangeIndex: 2000 entries, 0 to 1999\n",
      "Data columns (total 2 columns):\n",
      "file       2000 non-null object\n",
      "message    2000 non-null object\n",
      "dtypes: object(2)\n",
      "memory usage: 31.3+ KB\n"
     ]
    },
    {
     "data": {
      "text/html": [
       "<div>\n",
       "<style scoped>\n",
       "    .dataframe tbody tr th:only-of-type {\n",
       "        vertical-align: middle;\n",
       "    }\n",
       "\n",
       "    .dataframe tbody tr th {\n",
       "        vertical-align: top;\n",
       "    }\n",
       "\n",
       "    .dataframe thead th {\n",
       "        text-align: right;\n",
       "    }\n",
       "</style>\n",
       "<table border=\"1\" class=\"dataframe\">\n",
       "  <thead>\n",
       "    <tr style=\"text-align: right;\">\n",
       "      <th></th>\n",
       "      <th>file</th>\n",
       "      <th>message</th>\n",
       "    </tr>\n",
       "  </thead>\n",
       "  <tbody>\n",
       "    <tr>\n",
       "      <th>0</th>\n",
       "      <td>allen-p/_sent_mail/1.</td>\n",
       "      <td>Message-ID: &lt;18782981.1075855378110.JavaMail.e...</td>\n",
       "    </tr>\n",
       "    <tr>\n",
       "      <th>1</th>\n",
       "      <td>allen-p/_sent_mail/10.</td>\n",
       "      <td>Message-ID: &lt;15464986.1075855378456.JavaMail.e...</td>\n",
       "    </tr>\n",
       "    <tr>\n",
       "      <th>2</th>\n",
       "      <td>allen-p/_sent_mail/100.</td>\n",
       "      <td>Message-ID: &lt;24216240.1075855687451.JavaMail.e...</td>\n",
       "    </tr>\n",
       "    <tr>\n",
       "      <th>3</th>\n",
       "      <td>allen-p/_sent_mail/1000.</td>\n",
       "      <td>Message-ID: &lt;13505866.1075863688222.JavaMail.e...</td>\n",
       "    </tr>\n",
       "    <tr>\n",
       "      <th>4</th>\n",
       "      <td>allen-p/_sent_mail/1001.</td>\n",
       "      <td>Message-ID: &lt;30922949.1075863688243.JavaMail.e...</td>\n",
       "    </tr>\n",
       "  </tbody>\n",
       "</table>\n",
       "</div>"
      ],
      "text/plain": [
       "                       file                                            message\n",
       "0     allen-p/_sent_mail/1.  Message-ID: <18782981.1075855378110.JavaMail.e...\n",
       "1    allen-p/_sent_mail/10.  Message-ID: <15464986.1075855378456.JavaMail.e...\n",
       "2   allen-p/_sent_mail/100.  Message-ID: <24216240.1075855687451.JavaMail.e...\n",
       "3  allen-p/_sent_mail/1000.  Message-ID: <13505866.1075863688222.JavaMail.e...\n",
       "4  allen-p/_sent_mail/1001.  Message-ID: <30922949.1075863688243.JavaMail.e..."
      ]
     },
     "execution_count": 7,
     "metadata": {},
     "output_type": "execute_result"
    }
   ],
   "source": [
    "data.info()\n",
    "data.head()"
   ]
  },
  {
   "cell_type": "code",
   "execution_count": 8,
   "metadata": {},
   "outputs": [],
   "source": [
    "def get_text(Series, row_num_slicer):\n",
    "    \"\"\"returns a Series with text sliced from a list split from each message. Row_num_slicer\n",
    "    tells function where to slice split text to find only the body of the message.\"\"\"\n",
    "    result = pd.Series(index=Series.index)\n",
    "    for row, message in enumerate(Series):\n",
    "        message_words = message.split('\\n')\n",
    "        del message_words[:row_num_slicer]\n",
    "        result.iloc[row] = message_words\n",
    "    return result\n",
    "\n",
    "def get_row(Series, row_num):\n",
    "    \"\"\"returns a single row split out from each message. Row_num is the index of the specific\n",
    "    row that you want the function to return.\"\"\"\n",
    "    result = pd.Series(index=Series.index)\n",
    "    for row, message in enumerate(Series):\n",
    "        message_words = message.split('\\n')\n",
    "        message_words = message_words[row_num]\n",
    "        result.iloc[row] = message_words\n",
    "    return result\n",
    "\n",
    "def get_address(df, Series, num_cols=1):\n",
    "    \"\"\"returns a specified email address from each row in a Series\"\"\"\n",
    "    address = re.compile('[\\w\\.-]+@[\\w\\.-]+\\.\\w+')\n",
    "    addresses = []\n",
    "    result1 = pd.Series(index=df.index)\n",
    "    result2 = pd.Series(index=df.index)\n",
    "    result3 = pd.Series(index=df.index)\n",
    "    for i in range(len(df)):\n",
    "        for message in Series:\n",
    "            correspondents = re.findall(address, message)\n",
    "            addresses.append(correspondents)\n",
    "            result1[i] = addresses[i][0]\n",
    "        if num_cols >= 2:\n",
    "            if len(addresses[i]) >= 3:\n",
    "                result2[i] = addresses[i][1]\n",
    "                if num_cols == 3:\n",
    "                    if len(addresses[i]) >= 4:\n",
    "                        result3[i] = addresses[i][2]\n",
    "    return result1, result2, result3\n",
    "\n",
    "def standard_format(df, Series, string, slicer):\n",
    "    \"\"\"Drops rows containing messages without some specified value in the expected locations. \n",
    "    Returns original dataframe without these values. Don't forget to reindex after doing this!!!\"\"\"\n",
    "    rows = []\n",
    "    for row, message in enumerate(Series):\n",
    "        message_words = message.split('\\n')\n",
    "        if string not in message_words[slicer]:\n",
    "            rows.append(row)\n",
    "    df = df.drop(df.index[rows])\n",
    "    return df"
   ]
  },
  {
   "cell_type": "code",
   "execution_count": 9,
   "metadata": {},
   "outputs": [
    {
     "name": "stdout",
     "output_type": "stream",
     "text": [
      "Got rid of 165 useless emails! That's 8.25% of the total number of messages in this dataset.\n"
     ]
    }
   ],
   "source": [
    "x = len(data.index)\n",
    "headers = ['Message-ID: ', 'Date: ', 'From: ', 'To: ', 'Subject: ']\n",
    "for i, v in enumerate(headers):\n",
    "    data = standard_format(data, data.message, v, i)\n",
    "data = data.reset_index()\n",
    "print(\"Got rid of {} useless emails! That's {}% of the total number of messages in this dataset.\".format(x - len(data.index), np.round(((x - len(data.index)) / x) * 100, decimals=2)))"
   ]
  },
  {
   "cell_type": "code",
   "execution_count": 10,
   "metadata": {},
   "outputs": [
    {
     "name": "stdout",
     "output_type": "stream",
     "text": [
      "                 date                   sender               recipient1  \\\n",
      "0 2001-05-14 23:39:00  phillip.allen@enron.com     tim.belden@enron.com   \n",
      "1 2001-05-04 20:51:00  phillip.allen@enron.com  john.lavorato@enron.com   \n",
      "2 2000-10-18 10:00:00  phillip.allen@enron.com   leah.arsdall@enron.com   \n",
      "3 2000-10-23 13:13:00  phillip.allen@enron.com    randall.gay@enron.com   \n",
      "4 2000-08-31 12:07:00  phillip.allen@enron.com     greg.piper@enron.com   \n",
      "\n",
      "  recipient2  recipient3    subject  \\\n",
      "0        NaN         NaN              \n",
      "1        NaN         NaN        Re:   \n",
      "2        NaN         NaN   Re: test   \n",
      "3        NaN         NaN              \n",
      "4        NaN         NaN  Re: Hello   \n",
      "\n",
      "                                                text  \n",
      "0                      [, Here is our forecast, ,  ]  \n",
      "1  [, Traveling to have a business meeting takes ...  \n",
      "2                 [, test successful.  way to go!!!]  \n",
      "3  [, Randy,, ,  Can you send me a schedule of th...  \n",
      "4            [, Let's shoot for Tuesday at 11:45.  ]  \n"
     ]
    }
   ],
   "source": [
    "data['text'] = get_text(data.message, 15)\n",
    "data['date'] = get_row(data.message, 1)\n",
    "data['senders'] = get_row(data.message, 2)\n",
    "data['recipients'] = get_row(data.message, 3)\n",
    "data['subject'] = get_row(data.message, 4)\n",
    "\n",
    "data.date = data.date.str.replace('Date: ', '')\n",
    "data.date = pd.to_datetime(data.date)\n",
    "\n",
    "data.subject = data.subject.str.replace('Subject: ', '')\n",
    "\n",
    "data['recipient1'], data['recipient2'], data['recipient3'] = get_address(data, data.recipients, num_cols=3)\n",
    "data['sender'], x, y = get_address(data, data.senders)\n",
    "\n",
    "del data['recipients']\n",
    "del data['senders']\n",
    "del data['file']\n",
    "del data['message']\n",
    "\n",
    "data = data[['date', 'sender', 'recipient1', 'recipient2', 'recipient3', 'subject', 'text']]\n",
    "\n",
    "print(data.head())"
   ]
  },
  {
   "cell_type": "code",
   "execution_count": 11,
   "metadata": {},
   "outputs": [],
   "source": [
    "data.to_csv(\"Data/newdata.csv\")"
   ]
  },
  {
   "cell_type": "code",
   "execution_count": null,
   "metadata": {},
   "outputs": [],
   "source": []
  }
 ],
 "metadata": {
  "kernelspec": {
   "display_name": "Python 3",
   "language": "python",
   "name": "python3"
  },
  "language_info": {
   "codemirror_mode": {
    "name": "ipython",
    "version": 3
   },
   "file_extension": ".py",
   "mimetype": "text/x-python",
   "name": "python",
   "nbconvert_exporter": "python",
   "pygments_lexer": "ipython3",
   "version": "3.6.3"
  }
 },
 "nbformat": 4,
 "nbformat_minor": 2
}
